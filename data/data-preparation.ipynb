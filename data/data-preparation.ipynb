{
 "cells": [
  {
   "cell_type": "code",
   "execution_count": 1,
   "metadata": {},
   "outputs": [],
   "source": [
    "import json\n",
    "import pandas as pd"
   ]
  },
  {
   "cell_type": "markdown",
   "metadata": {},
   "source": [
    "# Data Preparation"
   ]
  },
  {
   "cell_type": "code",
   "execution_count": 2,
   "metadata": {},
   "outputs": [],
   "source": [
    "ISO_FILE = \"iso/iso-3166-1-alpha-2-en.json\"\n",
    "ELECTIONS_FILE = \"parlgov2020-dev/elections.csv\"\n",
    "PARTIES_FILE = \"parlgov2020-dev/parties.csv\"\n",
    "OUT = \"parlgov2020.csv\""
   ]
  },
  {
   "cell_type": "code",
   "execution_count": 3,
   "metadata": {},
   "outputs": [],
   "source": [
    "NONEUROPEAN_COUNTRIES = [\"Australia\", \"Canada\", \"Turkey\", \"Israel\", \"New Zealand\", \"Japan\"]"
   ]
  },
  {
   "cell_type": "code",
   "execution_count": 4,
   "metadata": {},
   "outputs": [],
   "source": [
    "REGIONS = {\n",
    "    \"central\": [\"Bulgaria\", \"Croatia\", \"Czech Republic\", \"Hungary\", \"Poland\", \"Romania\", \"Slovakia\", \"Slovenia\"],\n",
    "    \"north\": [\"Denmark\", \"Estonia\", \"Finland\", \"Iceland\", \"Latvia\", \"Lithuania\", \"Norway\", \"Sweden\"],\n",
    "    \"south\": [\"Cyprus\", \"Greece\", \"Italy\", \"Malta\", \"Portugal\", \"Spain\"],\n",
    "    \"west\": [\"Austria\", \"Belgium\", \"France\", \"Germany\", \"Ireland\", \"Luxembourg\", \"Netherlands\", \"Switzerland\", \"United Kingdom\"]\n",
    "}"
   ]
  },
  {
   "cell_type": "markdown",
   "metadata": {},
   "source": [
    "## Filter data on elections"
   ]
  },
  {
   "cell_type": "code",
   "execution_count": 5,
   "metadata": {},
   "outputs": [
    {
     "data": {
      "text/html": [
       "<div>\n",
       "<style scoped>\n",
       "    .dataframe tbody tr th:only-of-type {\n",
       "        vertical-align: middle;\n",
       "    }\n",
       "\n",
       "    .dataframe tbody tr th {\n",
       "        vertical-align: top;\n",
       "    }\n",
       "\n",
       "    .dataframe thead th {\n",
       "        text-align: right;\n",
       "    }\n",
       "</style>\n",
       "<table border=\"1\" class=\"dataframe\">\n",
       "  <thead>\n",
       "    <tr style=\"text-align: right;\">\n",
       "      <th></th>\n",
       "      <th>country_name_short</th>\n",
       "      <th>country_name</th>\n",
       "      <th>election_type</th>\n",
       "      <th>election_date</th>\n",
       "      <th>vote_share</th>\n",
       "      <th>seats</th>\n",
       "      <th>seats_total</th>\n",
       "      <th>party_name_short</th>\n",
       "      <th>party_name</th>\n",
       "      <th>party_name_english</th>\n",
       "      <th>left_right</th>\n",
       "      <th>country_id</th>\n",
       "      <th>election_id</th>\n",
       "      <th>previous_parliament_election_id</th>\n",
       "      <th>previous_cabinet_id</th>\n",
       "      <th>party_id</th>\n",
       "    </tr>\n",
       "  </thead>\n",
       "  <tbody>\n",
       "    <tr>\n",
       "      <th>0</th>\n",
       "      <td>AUS</td>\n",
       "      <td>Australia</td>\n",
       "      <td>parliament</td>\n",
       "      <td>1901-03-30</td>\n",
       "      <td>44.4</td>\n",
       "      <td>32.0</td>\n",
       "      <td>75</td>\n",
       "      <td>PP</td>\n",
       "      <td>Protectionist Party</td>\n",
       "      <td>Protectionist Party</td>\n",
       "      <td>7.4000</td>\n",
       "      <td>33</td>\n",
       "      <td>731</td>\n",
       "      <td>NaN</td>\n",
       "      <td>NaN</td>\n",
       "      <td>1898</td>\n",
       "    </tr>\n",
       "    <tr>\n",
       "      <th>1</th>\n",
       "      <td>AUS</td>\n",
       "      <td>Australia</td>\n",
       "      <td>parliament</td>\n",
       "      <td>1901-03-30</td>\n",
       "      <td>34.2</td>\n",
       "      <td>26.0</td>\n",
       "      <td>75</td>\n",
       "      <td>FTP</td>\n",
       "      <td>Free Trade Party</td>\n",
       "      <td>Free Trade Party</td>\n",
       "      <td>6.0000</td>\n",
       "      <td>33</td>\n",
       "      <td>731</td>\n",
       "      <td>NaN</td>\n",
       "      <td>NaN</td>\n",
       "      <td>1938</td>\n",
       "    </tr>\n",
       "    <tr>\n",
       "      <th>2</th>\n",
       "      <td>AUS</td>\n",
       "      <td>Australia</td>\n",
       "      <td>parliament</td>\n",
       "      <td>1901-03-30</td>\n",
       "      <td>19.4</td>\n",
       "      <td>15.0</td>\n",
       "      <td>75</td>\n",
       "      <td>ALP</td>\n",
       "      <td>Australian Labor Party</td>\n",
       "      <td>Australian Labor Party</td>\n",
       "      <td>3.8833</td>\n",
       "      <td>33</td>\n",
       "      <td>731</td>\n",
       "      <td>NaN</td>\n",
       "      <td>NaN</td>\n",
       "      <td>1253</td>\n",
       "    </tr>\n",
       "    <tr>\n",
       "      <th>3</th>\n",
       "      <td>AUS</td>\n",
       "      <td>Australia</td>\n",
       "      <td>parliament</td>\n",
       "      <td>1901-03-30</td>\n",
       "      <td>1.4</td>\n",
       "      <td>1.0</td>\n",
       "      <td>75</td>\n",
       "      <td>none</td>\n",
       "      <td>no party affiliation</td>\n",
       "      <td>no party affiliation</td>\n",
       "      <td>NaN</td>\n",
       "      <td>33</td>\n",
       "      <td>731</td>\n",
       "      <td>NaN</td>\n",
       "      <td>NaN</td>\n",
       "      <td>1396</td>\n",
       "    </tr>\n",
       "    <tr>\n",
       "      <th>4</th>\n",
       "      <td>AUS</td>\n",
       "      <td>Australia</td>\n",
       "      <td>parliament</td>\n",
       "      <td>1901-03-30</td>\n",
       "      <td>0.6</td>\n",
       "      <td>1.0</td>\n",
       "      <td>75</td>\n",
       "      <td>one-seat</td>\n",
       "      <td>one seat</td>\n",
       "      <td>one seat</td>\n",
       "      <td>NaN</td>\n",
       "      <td>33</td>\n",
       "      <td>731</td>\n",
       "      <td>NaN</td>\n",
       "      <td>NaN</td>\n",
       "      <td>2299</td>\n",
       "    </tr>\n",
       "  </tbody>\n",
       "</table>\n",
       "</div>"
      ],
      "text/plain": [
       "  country_name_short country_name election_type election_date  vote_share  \\\n",
       "0                AUS    Australia    parliament    1901-03-30        44.4   \n",
       "1                AUS    Australia    parliament    1901-03-30        34.2   \n",
       "2                AUS    Australia    parliament    1901-03-30        19.4   \n",
       "3                AUS    Australia    parliament    1901-03-30         1.4   \n",
       "4                AUS    Australia    parliament    1901-03-30         0.6   \n",
       "\n",
       "   seats  seats_total party_name_short              party_name  \\\n",
       "0   32.0           75               PP     Protectionist Party   \n",
       "1   26.0           75              FTP        Free Trade Party   \n",
       "2   15.0           75              ALP  Australian Labor Party   \n",
       "3    1.0           75             none    no party affiliation   \n",
       "4    1.0           75         one-seat                one seat   \n",
       "\n",
       "       party_name_english  left_right  country_id  election_id  \\\n",
       "0     Protectionist Party      7.4000          33          731   \n",
       "1        Free Trade Party      6.0000          33          731   \n",
       "2  Australian Labor Party      3.8833          33          731   \n",
       "3    no party affiliation         NaN          33          731   \n",
       "4                one seat         NaN          33          731   \n",
       "\n",
       "   previous_parliament_election_id  previous_cabinet_id  party_id  \n",
       "0                              NaN                  NaN      1898  \n",
       "1                              NaN                  NaN      1938  \n",
       "2                              NaN                  NaN      1253  \n",
       "3                              NaN                  NaN      1396  \n",
       "4                              NaN                  NaN      2299  "
      ]
     },
     "execution_count": 5,
     "metadata": {},
     "output_type": "execute_result"
    }
   ],
   "source": [
    "elections = pd.read_csv(ELECTIONS_FILE, parse_dates=[\"election_date\"])\n",
    "elections.head()"
   ]
  },
  {
   "cell_type": "code",
   "execution_count": 6,
   "metadata": {},
   "outputs": [],
   "source": [
    "# only european countries\n",
    "countries_keep = set(elections.country_name.unique().tolist()) - set(NONEUROPEAN_COUNTRIES)\n",
    "elections = elections[elections.country_name.isin(countries_keep)]"
   ]
  },
  {
   "cell_type": "code",
   "execution_count": 7,
   "metadata": {},
   "outputs": [],
   "source": [
    "# only parliamentary elections\n",
    "elections = elections[elections.election_type == \"parliament\"]"
   ]
  },
  {
   "cell_type": "code",
   "execution_count": 8,
   "metadata": {},
   "outputs": [],
   "source": [
    "# only actual parties\n",
    "elections = elections[~elections.party_name_english.isin([\"no seat\", \"no party affiliation\", \"one seat\"])]"
   ]
  },
  {
   "cell_type": "code",
   "execution_count": 9,
   "metadata": {},
   "outputs": [
    {
     "data": {
      "text/plain": [
       "(4291, 16)"
      ]
     },
     "execution_count": 9,
     "metadata": {},
     "output_type": "execute_result"
    }
   ],
   "source": [
    "# only those parties that actually won seats in parliament\n",
    "elections = elections[(elections.seats > 0) & (elections.vote_share > 0)]\n",
    "elections.shape"
   ]
  },
  {
   "cell_type": "markdown",
   "metadata": {},
   "source": [
    "**Only keep the first successful election for each party**"
   ]
  },
  {
   "cell_type": "code",
   "execution_count": 10,
   "metadata": {},
   "outputs": [
    {
     "data": {
      "text/plain": [
       "(802, 16)"
      ]
     },
     "execution_count": 10,
     "metadata": {},
     "output_type": "execute_result"
    }
   ],
   "source": [
    "new_parties = elections.copy()\n",
    "for (country_id, party_id), _df in elections.groupby([\"country_id\", \"party_id\"]):    \n",
    "    dates = sorted(_df.election_date.tolist())\n",
    "    new_parties = new_parties.drop(_df[_df.election_date != dates[0]].index)\n",
    "new_parties.shape"
   ]
  },
  {
   "cell_type": "code",
   "execution_count": 11,
   "metadata": {},
   "outputs": [
    {
     "data": {
      "text/plain": [
       "802"
      ]
     },
     "execution_count": 11,
     "metadata": {},
     "output_type": "execute_result"
    }
   ],
   "source": [
    "new_parties.party_id.unique().size"
   ]
  },
  {
   "cell_type": "code",
   "execution_count": 12,
   "metadata": {},
   "outputs": [],
   "source": [
    "new_parties = new_parties.set_index(\"party_id\")"
   ]
  },
  {
   "cell_type": "code",
   "execution_count": 13,
   "metadata": {},
   "outputs": [],
   "source": [
    "# only interested in the after-war period\n",
    "new_parties = new_parties[new_parties.election_date.dt.year >= 1945]"
   ]
  },
  {
   "cell_type": "code",
   "execution_count": 14,
   "metadata": {},
   "outputs": [
    {
     "data": {
      "text/plain": [
       "(610, 15)"
      ]
     },
     "execution_count": 14,
     "metadata": {},
     "output_type": "execute_result"
    }
   ],
   "source": [
    "new_parties.shape"
   ]
  },
  {
   "cell_type": "markdown",
   "metadata": {},
   "source": [
    "### Add information about political parties"
   ]
  },
  {
   "cell_type": "code",
   "execution_count": 15,
   "metadata": {
    "scrolled": false
   },
   "outputs": [
    {
     "data": {
      "text/html": [
       "<div>\n",
       "<style scoped>\n",
       "    .dataframe tbody tr th:only-of-type {\n",
       "        vertical-align: middle;\n",
       "    }\n",
       "\n",
       "    .dataframe tbody tr th {\n",
       "        vertical-align: top;\n",
       "    }\n",
       "\n",
       "    .dataframe thead th {\n",
       "        text-align: right;\n",
       "    }\n",
       "</style>\n",
       "<table border=\"1\" class=\"dataframe\">\n",
       "  <thead>\n",
       "    <tr style=\"text-align: right;\">\n",
       "      <th></th>\n",
       "      <th>country_name_short</th>\n",
       "      <th>country_name</th>\n",
       "      <th>party_name_short</th>\n",
       "      <th>party_name_english</th>\n",
       "      <th>party_name</th>\n",
       "      <th>party_name_ascii</th>\n",
       "      <th>family_name_short</th>\n",
       "      <th>family_name</th>\n",
       "      <th>left_right</th>\n",
       "      <th>state_market</th>\n",
       "      <th>...</th>\n",
       "      <th>cmp</th>\n",
       "      <th>euprofiler</th>\n",
       "      <th>ees</th>\n",
       "      <th>castles_mair</th>\n",
       "      <th>huber_inglehart</th>\n",
       "      <th>ray</th>\n",
       "      <th>benoit_laver</th>\n",
       "      <th>chess</th>\n",
       "      <th>country_id</th>\n",
       "      <th>family_id</th>\n",
       "    </tr>\n",
       "    <tr>\n",
       "      <th>party_id</th>\n",
       "      <th></th>\n",
       "      <th></th>\n",
       "      <th></th>\n",
       "      <th></th>\n",
       "      <th></th>\n",
       "      <th></th>\n",
       "      <th></th>\n",
       "      <th></th>\n",
       "      <th></th>\n",
       "      <th></th>\n",
       "      <th></th>\n",
       "      <th></th>\n",
       "      <th></th>\n",
       "      <th></th>\n",
       "      <th></th>\n",
       "      <th></th>\n",
       "      <th></th>\n",
       "      <th></th>\n",
       "      <th></th>\n",
       "      <th></th>\n",
       "      <th></th>\n",
       "    </tr>\n",
       "  </thead>\n",
       "  <tbody>\n",
       "    <tr>\n",
       "      <th>1935</th>\n",
       "      <td>AUS</td>\n",
       "      <td>Australia</td>\n",
       "      <td>ACP-V</td>\n",
       "      <td>Australian Country Party (Vic)</td>\n",
       "      <td>Australian Country Party (Vic)</td>\n",
       "      <td>Australian Country Party (Vic)</td>\n",
       "      <td>con</td>\n",
       "      <td>Conservative</td>\n",
       "      <td>7.4000</td>\n",
       "      <td>6.4000</td>\n",
       "      <td>...</td>\n",
       "      <td>NaN</td>\n",
       "      <td>NaN</td>\n",
       "      <td>NaN</td>\n",
       "      <td>NaN</td>\n",
       "      <td>NaN</td>\n",
       "      <td>NaN</td>\n",
       "      <td>NaN</td>\n",
       "      <td>NaN</td>\n",
       "      <td>33</td>\n",
       "      <td>26</td>\n",
       "    </tr>\n",
       "    <tr>\n",
       "      <th>120</th>\n",
       "      <td>AUS</td>\n",
       "      <td>Australia</td>\n",
       "      <td>AD</td>\n",
       "      <td>Australian Democrats</td>\n",
       "      <td>Australian Democrats</td>\n",
       "      <td>Australian Democrats</td>\n",
       "      <td>soc</td>\n",
       "      <td>Social democracy</td>\n",
       "      <td>3.7004</td>\n",
       "      <td>3.3684</td>\n",
       "      <td>...</td>\n",
       "      <td>63321.0</td>\n",
       "      <td>NaN</td>\n",
       "      <td>NaN</td>\n",
       "      <td>102.0</td>\n",
       "      <td>203.0</td>\n",
       "      <td>NaN</td>\n",
       "      <td>4703.0</td>\n",
       "      <td>NaN</td>\n",
       "      <td>33</td>\n",
       "      <td>11</td>\n",
       "    </tr>\n",
       "    <tr>\n",
       "      <th>751</th>\n",
       "      <td>AUS</td>\n",
       "      <td>Australia</td>\n",
       "      <td>AG</td>\n",
       "      <td>Australian Greens</td>\n",
       "      <td>Australian Greens</td>\n",
       "      <td>Australian Greens</td>\n",
       "      <td>eco</td>\n",
       "      <td>Green/Ecologist</td>\n",
       "      <td>1.5439</td>\n",
       "      <td>1.2982</td>\n",
       "      <td>...</td>\n",
       "      <td>NaN</td>\n",
       "      <td>NaN</td>\n",
       "      <td>NaN</td>\n",
       "      <td>NaN</td>\n",
       "      <td>NaN</td>\n",
       "      <td>NaN</td>\n",
       "      <td>4739.0</td>\n",
       "      <td>NaN</td>\n",
       "      <td>33</td>\n",
       "      <td>19</td>\n",
       "    </tr>\n",
       "    <tr>\n",
       "      <th>1253</th>\n",
       "      <td>AUS</td>\n",
       "      <td>Australia</td>\n",
       "      <td>ALP</td>\n",
       "      <td>Australian Labor Party</td>\n",
       "      <td>Australian Labor Party</td>\n",
       "      <td>Australian Labor Party</td>\n",
       "      <td>soc</td>\n",
       "      <td>Social democracy</td>\n",
       "      <td>3.8833</td>\n",
       "      <td>4.0351</td>\n",
       "      <td>...</td>\n",
       "      <td>63320.0</td>\n",
       "      <td>NaN</td>\n",
       "      <td>NaN</td>\n",
       "      <td>101.0</td>\n",
       "      <td>NaN</td>\n",
       "      <td>NaN</td>\n",
       "      <td>4721.0</td>\n",
       "      <td>NaN</td>\n",
       "      <td>33</td>\n",
       "      <td>11</td>\n",
       "    </tr>\n",
       "    <tr>\n",
       "      <th>1760</th>\n",
       "      <td>AUS</td>\n",
       "      <td>Australia</td>\n",
       "      <td>AP</td>\n",
       "      <td>Australia Party</td>\n",
       "      <td>Australia Party</td>\n",
       "      <td>Australia Party</td>\n",
       "      <td>lib</td>\n",
       "      <td>Liberal</td>\n",
       "      <td>6.0000</td>\n",
       "      <td>6.7000</td>\n",
       "      <td>...</td>\n",
       "      <td>NaN</td>\n",
       "      <td>NaN</td>\n",
       "      <td>NaN</td>\n",
       "      <td>NaN</td>\n",
       "      <td>NaN</td>\n",
       "      <td>NaN</td>\n",
       "      <td>NaN</td>\n",
       "      <td>NaN</td>\n",
       "      <td>33</td>\n",
       "      <td>6</td>\n",
       "    </tr>\n",
       "  </tbody>\n",
       "</table>\n",
       "<p>5 rows × 22 columns</p>\n",
       "</div>"
      ],
      "text/plain": [
       "         country_name_short country_name party_name_short  \\\n",
       "party_id                                                    \n",
       "1935                    AUS    Australia            ACP-V   \n",
       "120                     AUS    Australia               AD   \n",
       "751                     AUS    Australia               AG   \n",
       "1253                    AUS    Australia              ALP   \n",
       "1760                    AUS    Australia               AP   \n",
       "\n",
       "                      party_name_english                      party_name  \\\n",
       "party_id                                                                   \n",
       "1935      Australian Country Party (Vic)  Australian Country Party (Vic)   \n",
       "120                 Australian Democrats            Australian Democrats   \n",
       "751                    Australian Greens               Australian Greens   \n",
       "1253              Australian Labor Party          Australian Labor Party   \n",
       "1760                     Australia Party                 Australia Party   \n",
       "\n",
       "                        party_name_ascii family_name_short       family_name  \\\n",
       "party_id                                                                       \n",
       "1935      Australian Country Party (Vic)               con      Conservative   \n",
       "120                 Australian Democrats               soc  Social democracy   \n",
       "751                    Australian Greens               eco   Green/Ecologist   \n",
       "1253              Australian Labor Party               soc  Social democracy   \n",
       "1760                     Australia Party               lib           Liberal   \n",
       "\n",
       "          left_right  state_market  ...      cmp  euprofiler  ees  \\\n",
       "party_id                            ...                             \n",
       "1935          7.4000        6.4000  ...      NaN         NaN  NaN   \n",
       "120           3.7004        3.3684  ...  63321.0         NaN  NaN   \n",
       "751           1.5439        1.2982  ...      NaN         NaN  NaN   \n",
       "1253          3.8833        4.0351  ...  63320.0         NaN  NaN   \n",
       "1760          6.0000        6.7000  ...      NaN         NaN  NaN   \n",
       "\n",
       "          castles_mair  huber_inglehart  ray  benoit_laver  chess  country_id  \\\n",
       "party_id                                                                        \n",
       "1935               NaN              NaN  NaN           NaN    NaN          33   \n",
       "120              102.0            203.0  NaN        4703.0    NaN          33   \n",
       "751                NaN              NaN  NaN        4739.0    NaN          33   \n",
       "1253             101.0              NaN  NaN        4721.0    NaN          33   \n",
       "1760               NaN              NaN  NaN           NaN    NaN          33   \n",
       "\n",
       "          family_id  \n",
       "party_id             \n",
       "1935             26  \n",
       "120              11  \n",
       "751              19  \n",
       "1253             11  \n",
       "1760              6  \n",
       "\n",
       "[5 rows x 22 columns]"
      ]
     },
     "execution_count": 15,
     "metadata": {},
     "output_type": "execute_result"
    }
   ],
   "source": [
    "parties = pd.read_csv(PARTIES_FILE)\n",
    "parties = parties.set_index(\"party_id\")\n",
    "parties.head()"
   ]
  },
  {
   "cell_type": "code",
   "execution_count": 16,
   "metadata": {},
   "outputs": [
    {
     "data": {
      "text/plain": [
       "Index(['country_name_short', 'country_name', 'party_name_short',\n",
       "       'party_name_english', 'party_name', 'party_name_ascii',\n",
       "       'family_name_short', 'family_name', 'left_right', 'state_market',\n",
       "       'liberty_authority', 'eu_anti_pro', 'cmp', 'euprofiler', 'ees',\n",
       "       'castles_mair', 'huber_inglehart', 'ray', 'benoit_laver', 'chess',\n",
       "       'country_id', 'family_id'],\n",
       "      dtype='object')"
      ]
     },
     "execution_count": 16,
     "metadata": {},
     "output_type": "execute_result"
    }
   ],
   "source": [
    "parties.columns"
   ]
  },
  {
   "cell_type": "code",
   "execution_count": 17,
   "metadata": {},
   "outputs": [
    {
     "data": {
      "text/html": [
       "<div>\n",
       "<style scoped>\n",
       "    .dataframe tbody tr th:only-of-type {\n",
       "        vertical-align: middle;\n",
       "    }\n",
       "\n",
       "    .dataframe tbody tr th {\n",
       "        vertical-align: top;\n",
       "    }\n",
       "\n",
       "    .dataframe thead th {\n",
       "        text-align: right;\n",
       "    }\n",
       "</style>\n",
       "<table border=\"1\" class=\"dataframe\">\n",
       "  <thead>\n",
       "    <tr style=\"text-align: right;\">\n",
       "      <th></th>\n",
       "      <th>party_name_ascii</th>\n",
       "      <th>family_name_short</th>\n",
       "      <th>family_name</th>\n",
       "      <th>state_market</th>\n",
       "      <th>liberty_authority</th>\n",
       "      <th>eu_anti_pro</th>\n",
       "    </tr>\n",
       "    <tr>\n",
       "      <th>party_id</th>\n",
       "      <th></th>\n",
       "      <th></th>\n",
       "      <th></th>\n",
       "      <th></th>\n",
       "      <th></th>\n",
       "      <th></th>\n",
       "    </tr>\n",
       "  </thead>\n",
       "  <tbody>\n",
       "    <tr>\n",
       "      <th>1935</th>\n",
       "      <td>Australian Country Party (Vic)</td>\n",
       "      <td>con</td>\n",
       "      <td>Conservative</td>\n",
       "      <td>6.4000</td>\n",
       "      <td>7.0000</td>\n",
       "      <td>NaN</td>\n",
       "    </tr>\n",
       "    <tr>\n",
       "      <th>120</th>\n",
       "      <td>Australian Democrats</td>\n",
       "      <td>soc</td>\n",
       "      <td>Social democracy</td>\n",
       "      <td>3.3684</td>\n",
       "      <td>1.1579</td>\n",
       "      <td>NaN</td>\n",
       "    </tr>\n",
       "    <tr>\n",
       "      <th>751</th>\n",
       "      <td>Australian Greens</td>\n",
       "      <td>eco</td>\n",
       "      <td>Green/Ecologist</td>\n",
       "      <td>1.2982</td>\n",
       "      <td>0.5614</td>\n",
       "      <td>NaN</td>\n",
       "    </tr>\n",
       "    <tr>\n",
       "      <th>1253</th>\n",
       "      <td>Australian Labor Party</td>\n",
       "      <td>soc</td>\n",
       "      <td>Social democracy</td>\n",
       "      <td>4.0351</td>\n",
       "      <td>3.2632</td>\n",
       "      <td>NaN</td>\n",
       "    </tr>\n",
       "    <tr>\n",
       "      <th>1760</th>\n",
       "      <td>Australia Party</td>\n",
       "      <td>lib</td>\n",
       "      <td>Liberal</td>\n",
       "      <td>6.7000</td>\n",
       "      <td>3.6000</td>\n",
       "      <td>NaN</td>\n",
       "    </tr>\n",
       "  </tbody>\n",
       "</table>\n",
       "</div>"
      ],
      "text/plain": [
       "                        party_name_ascii family_name_short       family_name  \\\n",
       "party_id                                                                       \n",
       "1935      Australian Country Party (Vic)               con      Conservative   \n",
       "120                 Australian Democrats               soc  Social democracy   \n",
       "751                    Australian Greens               eco   Green/Ecologist   \n",
       "1253              Australian Labor Party               soc  Social democracy   \n",
       "1760                     Australia Party               lib           Liberal   \n",
       "\n",
       "          state_market  liberty_authority  eu_anti_pro  \n",
       "party_id                                                \n",
       "1935            6.4000             7.0000          NaN  \n",
       "120             3.3684             1.1579          NaN  \n",
       "751             1.2982             0.5614          NaN  \n",
       "1253            4.0351             3.2632          NaN  \n",
       "1760            6.7000             3.6000          NaN  "
      ]
     },
     "execution_count": 17,
     "metadata": {},
     "output_type": "execute_result"
    }
   ],
   "source": [
    "keep_cols = [\"state_market\", \"liberty_authority\", \"eu_anti_pro\", \"family_name_short\", \"family_name\", \"party_name_ascii\"]\n",
    "party_positions = parties.drop(columns=list(set(parties.columns) - set(keep_cols)))\n",
    "party_positions.head()"
   ]
  },
  {
   "cell_type": "code",
   "execution_count": 18,
   "metadata": {},
   "outputs": [
    {
     "data": {
      "text/plain": [
       "(610, 21)"
      ]
     },
     "execution_count": 18,
     "metadata": {},
     "output_type": "execute_result"
    }
   ],
   "source": [
    "# join with information on parties\n",
    "new_parties = new_parties.join(party_positions)\n",
    "new_parties.shape"
   ]
  },
  {
   "cell_type": "markdown",
   "metadata": {},
   "source": [
    "**Add ISO country codes**"
   ]
  },
  {
   "cell_type": "code",
   "execution_count": 19,
   "metadata": {},
   "outputs": [],
   "source": [
    "with open(ISO_FILE) as f:\n",
    "    iso = json.load(f)\n",
    "iso = {item[\"Name\"]: item[\"Code\"] for item in iso}"
   ]
  },
  {
   "cell_type": "code",
   "execution_count": 20,
   "metadata": {},
   "outputs": [],
   "source": [
    "new_parties[\"country_code\"] = new_parties.country_name.apply(lambda country: iso[country].lower())"
   ]
  },
  {
   "cell_type": "markdown",
   "metadata": {},
   "source": [
    "**Add geographical classification**"
   ]
  },
  {
   "cell_type": "code",
   "execution_count": 21,
   "metadata": {},
   "outputs": [],
   "source": [
    "MAP_COUNTRY_TO_REGION = {}\n",
    "for region, countries in REGIONS.items():\n",
    "    for country in countries:\n",
    "        MAP_COUNTRY_TO_REGION[country] = region"
   ]
  },
  {
   "cell_type": "code",
   "execution_count": 22,
   "metadata": {},
   "outputs": [],
   "source": [
    "new_parties[\"region\"] = new_parties.country_name.apply(lambda country: MAP_COUNTRY_TO_REGION[country])"
   ]
  },
  {
   "cell_type": "code",
   "execution_count": 23,
   "metadata": {},
   "outputs": [
    {
     "data": {
      "text/plain": [
       "31"
      ]
     },
     "execution_count": 23,
     "metadata": {},
     "output_type": "execute_result"
    }
   ],
   "source": [
    "new_parties.country_id.unique().size"
   ]
  },
  {
   "cell_type": "markdown",
   "metadata": {},
   "source": [
    "**Is a party is represented in today's parliament?**"
   ]
  },
  {
   "cell_type": "code",
   "execution_count": 24,
   "metadata": {},
   "outputs": [
    {
     "data": {
      "text/plain": [
       "31"
      ]
     },
     "execution_count": 24,
     "metadata": {},
     "output_type": "execute_result"
    }
   ],
   "source": [
    "most_recent_election_id = {}\n",
    "for country_id, _df in elections.groupby(\"country_id\"):\n",
    "    dates = sorted(_df.election_date.tolist())\n",
    "    date = dates[-1]\n",
    "    election_id = _df[_df.election_date == date].election_id.tolist()[0]\n",
    "    most_recent_election_id[country_id] = election_id\n",
    "len(most_recent_election_id)"
   ]
  },
  {
   "cell_type": "code",
   "execution_count": 25,
   "metadata": {},
   "outputs": [],
   "source": [
    "is_alive = []\n",
    "for party_id in new_parties.index:\n",
    "    _df = elections[elections.party_id == party_id]\n",
    "    country_id = _df.country_id.tolist()[0]\n",
    "    election_id = most_recent_election_id[country_id]\n",
    "    election_ids = elections[elections.party_id == party_id].election_id.tolist()\n",
    "    is_alive.append(int(election_id in election_ids))\n",
    "new_parties[\"is_alive\"] = is_alive"
   ]
  },
  {
   "cell_type": "code",
   "execution_count": 26,
   "metadata": {
    "scrolled": true
   },
   "outputs": [
    {
     "data": {
      "text/html": [
       "<div>\n",
       "<style scoped>\n",
       "    .dataframe tbody tr th:only-of-type {\n",
       "        vertical-align: middle;\n",
       "    }\n",
       "\n",
       "    .dataframe tbody tr th {\n",
       "        vertical-align: top;\n",
       "    }\n",
       "\n",
       "    .dataframe thead th {\n",
       "        text-align: right;\n",
       "    }\n",
       "</style>\n",
       "<table border=\"1\" class=\"dataframe\">\n",
       "  <thead>\n",
       "    <tr style=\"text-align: right;\">\n",
       "      <th></th>\n",
       "      <th>country_name_short</th>\n",
       "      <th>country_name</th>\n",
       "      <th>election_type</th>\n",
       "      <th>election_date</th>\n",
       "      <th>vote_share</th>\n",
       "      <th>seats</th>\n",
       "      <th>seats_total</th>\n",
       "      <th>party_name_short</th>\n",
       "      <th>party_name</th>\n",
       "      <th>party_name_english</th>\n",
       "      <th>...</th>\n",
       "      <th>previous_cabinet_id</th>\n",
       "      <th>party_name_ascii</th>\n",
       "      <th>family_name_short</th>\n",
       "      <th>family_name</th>\n",
       "      <th>state_market</th>\n",
       "      <th>liberty_authority</th>\n",
       "      <th>eu_anti_pro</th>\n",
       "      <th>country_code</th>\n",
       "      <th>region</th>\n",
       "      <th>is_alive</th>\n",
       "    </tr>\n",
       "    <tr>\n",
       "      <th>party_id</th>\n",
       "      <th></th>\n",
       "      <th></th>\n",
       "      <th></th>\n",
       "      <th></th>\n",
       "      <th></th>\n",
       "      <th></th>\n",
       "      <th></th>\n",
       "      <th></th>\n",
       "      <th></th>\n",
       "      <th></th>\n",
       "      <th></th>\n",
       "      <th></th>\n",
       "      <th></th>\n",
       "      <th></th>\n",
       "      <th></th>\n",
       "      <th></th>\n",
       "      <th></th>\n",
       "      <th></th>\n",
       "      <th></th>\n",
       "      <th></th>\n",
       "      <th></th>\n",
       "    </tr>\n",
       "  </thead>\n",
       "  <tbody>\n",
       "    <tr>\n",
       "      <th>769</th>\n",
       "      <td>AUT</td>\n",
       "      <td>Austria</td>\n",
       "      <td>parliament</td>\n",
       "      <td>1945-11-25</td>\n",
       "      <td>5.4</td>\n",
       "      <td>4.0</td>\n",
       "      <td>165</td>\n",
       "      <td>KPO</td>\n",
       "      <td>Kommunistische Partei Österreichs</td>\n",
       "      <td>Communist Party of Austria</td>\n",
       "      <td>...</td>\n",
       "      <td>452.0</td>\n",
       "      <td>Kommunistische Partei Oesterreichs</td>\n",
       "      <td>com</td>\n",
       "      <td>Communist/Socialist</td>\n",
       "      <td>1.4000</td>\n",
       "      <td>3.0000</td>\n",
       "      <td>0.0000</td>\n",
       "      <td>at</td>\n",
       "      <td>west</td>\n",
       "      <td>0</td>\n",
       "    </tr>\n",
       "    <tr>\n",
       "      <th>50</th>\n",
       "      <td>AUT</td>\n",
       "      <td>Austria</td>\n",
       "      <td>parliament</td>\n",
       "      <td>1949-10-09</td>\n",
       "      <td>11.7</td>\n",
       "      <td>16.0</td>\n",
       "      <td>165</td>\n",
       "      <td>FPO</td>\n",
       "      <td>Freiheitliche Partei Österreichs</td>\n",
       "      <td>Freedom Party of Austria</td>\n",
       "      <td>...</td>\n",
       "      <td>884.0</td>\n",
       "      <td>Freiheitliche Partei Oesterreichs</td>\n",
       "      <td>right</td>\n",
       "      <td>Right-wing</td>\n",
       "      <td>6.3291</td>\n",
       "      <td>8.5149</td>\n",
       "      <td>1.9815</td>\n",
       "      <td>at</td>\n",
       "      <td>west</td>\n",
       "      <td>1</td>\n",
       "    </tr>\n",
       "    <tr>\n",
       "      <th>1429</th>\n",
       "      <td>AUT</td>\n",
       "      <td>Austria</td>\n",
       "      <td>parliament</td>\n",
       "      <td>1986-11-23</td>\n",
       "      <td>4.8</td>\n",
       "      <td>8.0</td>\n",
       "      <td>183</td>\n",
       "      <td>Gruene</td>\n",
       "      <td>Die Grünen – Die Grüne Alternative</td>\n",
       "      <td>The Greens -- The Green Alternative</td>\n",
       "      <td>...</td>\n",
       "      <td>828.0</td>\n",
       "      <td>Die Gruenen -- Die Gruene Alternative</td>\n",
       "      <td>eco</td>\n",
       "      <td>Green/Ecologist</td>\n",
       "      <td>2.7489</td>\n",
       "      <td>1.4308</td>\n",
       "      <td>6.6845</td>\n",
       "      <td>at</td>\n",
       "      <td>west</td>\n",
       "      <td>1</td>\n",
       "    </tr>\n",
       "    <tr>\n",
       "      <th>955</th>\n",
       "      <td>AUT</td>\n",
       "      <td>Austria</td>\n",
       "      <td>parliament</td>\n",
       "      <td>1994-10-09</td>\n",
       "      <td>6.0</td>\n",
       "      <td>11.0</td>\n",
       "      <td>183</td>\n",
       "      <td>LIF</td>\n",
       "      <td>Liberales Forum</td>\n",
       "      <td>Liberal Forum</td>\n",
       "      <td>...</td>\n",
       "      <td>524.0</td>\n",
       "      <td>Liberales Forum</td>\n",
       "      <td>lib</td>\n",
       "      <td>Liberal</td>\n",
       "      <td>7.3667</td>\n",
       "      <td>1.8667</td>\n",
       "      <td>9.6125</td>\n",
       "      <td>at</td>\n",
       "      <td>west</td>\n",
       "      <td>0</td>\n",
       "    </tr>\n",
       "    <tr>\n",
       "      <th>1536</th>\n",
       "      <td>AUT</td>\n",
       "      <td>Austria</td>\n",
       "      <td>parliament</td>\n",
       "      <td>2006-10-01</td>\n",
       "      <td>4.1</td>\n",
       "      <td>7.0</td>\n",
       "      <td>183</td>\n",
       "      <td>BZO</td>\n",
       "      <td>Bündnis Zukunft Österreich</td>\n",
       "      <td>Alliance for the Future of Austria</td>\n",
       "      <td>...</td>\n",
       "      <td>888.0</td>\n",
       "      <td>Buendnis Zukunft Oesterreich</td>\n",
       "      <td>right</td>\n",
       "      <td>Right-wing</td>\n",
       "      <td>6.0000</td>\n",
       "      <td>8.8300</td>\n",
       "      <td>2.5000</td>\n",
       "      <td>at</td>\n",
       "      <td>west</td>\n",
       "      <td>0</td>\n",
       "    </tr>\n",
       "  </tbody>\n",
       "</table>\n",
       "<p>5 rows × 24 columns</p>\n",
       "</div>"
      ],
      "text/plain": [
       "         country_name_short country_name election_type election_date  \\\n",
       "party_id                                                               \n",
       "769                     AUT      Austria    parliament    1945-11-25   \n",
       "50                      AUT      Austria    parliament    1949-10-09   \n",
       "1429                    AUT      Austria    parliament    1986-11-23   \n",
       "955                     AUT      Austria    parliament    1994-10-09   \n",
       "1536                    AUT      Austria    parliament    2006-10-01   \n",
       "\n",
       "          vote_share  seats  seats_total party_name_short  \\\n",
       "party_id                                                    \n",
       "769              5.4    4.0          165              KPO   \n",
       "50              11.7   16.0          165              FPO   \n",
       "1429             4.8    8.0          183           Gruene   \n",
       "955              6.0   11.0          183              LIF   \n",
       "1536             4.1    7.0          183              BZO   \n",
       "\n",
       "                                  party_name  \\\n",
       "party_id                                       \n",
       "769        Kommunistische Partei Österreichs   \n",
       "50          Freiheitliche Partei Österreichs   \n",
       "1429      Die Grünen – Die Grüne Alternative   \n",
       "955                          Liberales Forum   \n",
       "1536              Bündnis Zukunft Österreich   \n",
       "\n",
       "                           party_name_english  ...  previous_cabinet_id  \\\n",
       "party_id                                       ...                        \n",
       "769                Communist Party of Austria  ...                452.0   \n",
       "50                   Freedom Party of Austria  ...                884.0   \n",
       "1429      The Greens -- The Green Alternative  ...                828.0   \n",
       "955                             Liberal Forum  ...                524.0   \n",
       "1536       Alliance for the Future of Austria  ...                888.0   \n",
       "\n",
       "                               party_name_ascii  family_name_short  \\\n",
       "party_id                                                             \n",
       "769          Kommunistische Partei Oesterreichs                com   \n",
       "50            Freiheitliche Partei Oesterreichs              right   \n",
       "1429      Die Gruenen -- Die Gruene Alternative                eco   \n",
       "955                             Liberales Forum                lib   \n",
       "1536               Buendnis Zukunft Oesterreich              right   \n",
       "\n",
       "                  family_name  state_market liberty_authority eu_anti_pro  \\\n",
       "party_id                                                                    \n",
       "769       Communist/Socialist        1.4000            3.0000      0.0000   \n",
       "50                 Right-wing        6.3291            8.5149      1.9815   \n",
       "1429          Green/Ecologist        2.7489            1.4308      6.6845   \n",
       "955                   Liberal        7.3667            1.8667      9.6125   \n",
       "1536               Right-wing        6.0000            8.8300      2.5000   \n",
       "\n",
       "         country_code  region  is_alive  \n",
       "party_id                                 \n",
       "769                at    west         0  \n",
       "50                 at    west         1  \n",
       "1429               at    west         1  \n",
       "955                at    west         0  \n",
       "1536               at    west         0  \n",
       "\n",
       "[5 rows x 24 columns]"
      ]
     },
     "execution_count": 26,
     "metadata": {},
     "output_type": "execute_result"
    }
   ],
   "source": [
    "new_parties.head()"
   ]
  },
  {
   "cell_type": "code",
   "execution_count": 27,
   "metadata": {},
   "outputs": [],
   "source": [
    "new_parties.to_csv(OUT)"
   ]
  },
  {
   "cell_type": "code",
   "execution_count": null,
   "metadata": {},
   "outputs": [],
   "source": []
  },
  {
   "cell_type": "code",
   "execution_count": null,
   "metadata": {},
   "outputs": [],
   "source": []
  }
 ],
 "metadata": {
  "kernelspec": {
   "display_name": "Python 3",
   "language": "python",
   "name": "python3"
  },
  "language_info": {
   "codemirror_mode": {
    "name": "ipython",
    "version": 3
   },
   "file_extension": ".py",
   "mimetype": "text/x-python",
   "name": "python",
   "nbconvert_exporter": "python",
   "pygments_lexer": "ipython3",
   "version": "3.8.2"
  }
 },
 "nbformat": 4,
 "nbformat_minor": 4
}
